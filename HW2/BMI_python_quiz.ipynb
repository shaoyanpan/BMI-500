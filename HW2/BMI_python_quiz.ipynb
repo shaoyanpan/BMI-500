{
  "nbformat": 4,
  "nbformat_minor": 0,
  "metadata": {
    "colab": {
      "name": "BMI python quiz.ipynb",
      "provenance": []
    },
    "kernelspec": {
      "name": "python3",
      "display_name": "Python 3"
    },
    "language_info": {
      "name": "python"
    }
  },
  "cells": [
    {
      "cell_type": "code",
      "metadata": {
        "id": "DPl2zYhXUbVc"
      },
      "source": [
        "import numpy as np\n",
        "import time\n",
        "import matplotlib.pyplot as plt\n",
        "#Enter your desired n here\n",
        "n = 1000"
      ],
      "execution_count": 118,
      "outputs": []
    },
    {
      "cell_type": "code",
      "metadata": {
        "colab": {
          "base_uri": "https://localhost:8080/"
        },
        "id": "QjY9nEMYha30",
        "outputId": "d722b6bf-a5eb-4419-885c-105ca263405f"
      },
      "source": [
        "#BMI 500 HW2 Q1\n",
        "start = time.time()\n",
        "y = 0\n",
        "for ind in range(n):\n",
        "  y += ((-1)**(ind))/(2*ind+1)\n",
        "end = time.time()\n",
        "print('time = ', end - start)\n",
        "print('Result = ',y)\n",
        "print('Error = ',np.abs(y-np.pi/4))"
      ],
      "execution_count": 107,
      "outputs": [
        {
          "output_type": "stream",
          "name": "stdout",
          "text": [
            "time =  0.0006198883056640625\n",
            "Result =  0.7851481634599485\n",
            "Error =  0.00024999993749974525\n"
          ]
        }
      ]
    },
    {
      "cell_type": "code",
      "metadata": {
        "colab": {
          "base_uri": "https://localhost:8080/"
        },
        "id": "FtylUrzGrq64",
        "outputId": "4cd1ea3b-96f8-4391-88a5-7544bbf8554a"
      },
      "source": [
        "#BMI 500 HW2 Q2.a\n",
        "start = time.time()\n",
        "y = 0\n",
        "for ind in range(n):\n",
        "  if ind%2 == 0:\n",
        "    y += (1)/(2*ind+1)\n",
        "  else:\n",
        "    y -= (1)/(2*ind+1)\n",
        "end = time.time()\n",
        "print('time= ', end - start)\n",
        "print('Result = ',y)\n",
        "print('Error = ',np.abs(y-np.pi/4))"
      ],
      "execution_count": 108,
      "outputs": [
        {
          "output_type": "stream",
          "name": "stdout",
          "text": [
            "time=  0.0007147789001464844\n",
            "Result =  0.7851481634599485\n",
            "Error =  0.00024999993749974525\n"
          ]
        }
      ]
    },
    {
      "cell_type": "code",
      "metadata": {
        "colab": {
          "base_uri": "https://localhost:8080/"
        },
        "id": "X2Vac9-hsIBs",
        "outputId": "91c84e45-4b4b-4ed1-f39b-bf6af77374b8"
      },
      "source": [
        "#BMI 500 HW2 Q2.b\n",
        "start = time.time()\n",
        "y = 0\n",
        "for ind in range(n):\n",
        "  if (-1)**ind == 1:\n",
        "    y += (1)/(2*ind+1)\n",
        "  else:\n",
        "    y -= (1)/(2*ind+1)\n",
        "end = time.time()\n",
        "print('time= ', end - start)\n",
        "print('Result = ',y)\n",
        "print('Error = ',np.abs(y-np.pi/4))"
      ],
      "execution_count": 109,
      "outputs": [
        {
          "output_type": "stream",
          "name": "stdout",
          "text": [
            "time=  0.000881195068359375\n",
            "Result =  0.7851481634599485\n",
            "Error =  0.00024999993749974525\n"
          ]
        }
      ]
    },
    {
      "cell_type": "code",
      "metadata": {
        "colab": {
          "base_uri": "https://localhost:8080/"
        },
        "id": "42ryTbn5ywt1",
        "outputId": "e494b8a1-cad9-4f92-fe6d-fb538a7b8d09"
      },
      "source": [
        "#BMI 500 HW2 Q2.c\n",
        "start = time.time()\n",
        "y = []\n",
        "for ind in range(n):\n",
        "  if ind%2 == 0:\n",
        "    y.append((1)/(2*ind+1))\n",
        "  else:\n",
        "    y.append((-1)/(2*ind+1))\n",
        "z = sum(y)\n",
        "end = time.time()\n",
        "print('time= ', end - start)\n",
        "print('Result = ',z)\n",
        "print('Error = ',np.abs(z-np.pi/4))"
      ],
      "execution_count": 110,
      "outputs": [
        {
          "output_type": "stream",
          "name": "stdout",
          "text": [
            "time=  0.00045680999755859375\n",
            "Result =  0.7851481634599485\n",
            "Error =  0.00024999993749974525\n"
          ]
        }
      ]
    },
    {
      "cell_type": "code",
      "metadata": {
        "colab": {
          "base_uri": "https://localhost:8080/"
        },
        "id": "UdIOe-_wzF0l",
        "outputId": "2ed493ea-5001-42c4-b493-7f8380e02f3a"
      },
      "source": [
        "#BMI 500 HW2 Q2.d\n",
        "start = time.time()\n",
        "y = set([])\n",
        "for ind in range(n):\n",
        "  if ind%2 == 0:\n",
        "    y.add((1)/(2*ind+1))\n",
        "  else:\n",
        "    y.add((-1)/(2*ind+1))\n",
        "z = sum(y)\n",
        "end = time.time()\n",
        "print('time= ', end - start)\n",
        "print('Result = ',z)\n",
        "print('Error = ',np.abs(z-np.pi/4))"
      ],
      "execution_count": 111,
      "outputs": [
        {
          "output_type": "stream",
          "name": "stdout",
          "text": [
            "time=  0.002227783203125\n",
            "Result =  0.7851481634599495\n",
            "Error =  0.00024999993749874605\n"
          ]
        }
      ]
    },
    {
      "cell_type": "code",
      "metadata": {
        "colab": {
          "base_uri": "https://localhost:8080/"
        },
        "id": "vNvus1S10WKr",
        "outputId": "26e893c8-c912-4a01-8ae1-8697ba0d5617"
      },
      "source": [
        "#BMI 500 HW2 Q2.e\n",
        "start = time.time()\n",
        "y = {\"Index\":[],\"Value\":[]};\n",
        "for ind in range(n):\n",
        "  if ind%2 == 0:\n",
        "    y[\"Index\"].append(str(ind+1))\n",
        "    y[\"Value\"].append((1)/(2*ind+1))\n",
        "  else:\n",
        "    y[\"Index\"].append(str(ind+1))\n",
        "    y[\"Value\"].append((-1)/(2*ind+1))\n",
        "z = sum(d for d in y['Value'])\n",
        "end = time.time()\n",
        "print('time= ', end - start)\n",
        "print('Result = ',z)\n",
        "print('Error = ',np.abs(z-np.pi/4))"
      ],
      "execution_count": 112,
      "outputs": [
        {
          "output_type": "stream",
          "name": "stdout",
          "text": [
            "time=  0.001619577407836914\n",
            "Result =  0.7851481634599485\n",
            "Error =  0.00024999993749974525\n"
          ]
        }
      ]
    },
    {
      "cell_type": "code",
      "metadata": {
        "colab": {
          "base_uri": "https://localhost:8080/"
        },
        "id": "5rwUFDIb0kkS",
        "outputId": "e95e4914-c122-494c-a5a8-325d83b39901"
      },
      "source": [
        "#BMI 500 HW2 Q2.f\n",
        "start = time.time()\n",
        "y = np.array([])\n",
        "for ind in range(n):\n",
        "  if ind%2 == 0:\n",
        "    y = np.append(y,(1)/(2*ind+1))\n",
        "  else:\n",
        "    y = np.append(y,(-1)/(2*ind+1))\n",
        "z = np.sum(y)\n",
        "end = time.time()\n",
        "print('time= ', end - start)\n",
        "print('Result = ',z)\n",
        "print('Error = ',np.abs(z-np.pi/4))"
      ],
      "execution_count": 113,
      "outputs": [
        {
          "output_type": "stream",
          "name": "stdout",
          "text": [
            "time=  0.00909876823425293\n",
            "Result =  0.785148163459948\n",
            "Error =  0.00024999993750030036\n"
          ]
        }
      ]
    },
    {
      "cell_type": "code",
      "metadata": {
        "colab": {
          "base_uri": "https://localhost:8080/"
        },
        "id": "ZXtr6QviGrTN",
        "outputId": "751039d5-f23d-4f56-f95e-9c9aa7eb0a75"
      },
      "source": [
        "#BMI 500 HW2 Q2.g\n",
        "start = time.time()\n",
        "y = np.zeros((n,2))\n",
        "for ind in range(n):\n",
        "  if ind%2 == 0:\n",
        "    y[ind//2,0] = (1)/(2*ind+1)\n",
        "  else:\n",
        "    y[ind//2,1] = (-1)/(2*ind+1)\n",
        "z = np.sum(y)\n",
        "end = time.time()\n",
        "print('time= ', end - start)\n",
        "print('Result = ',z)\n",
        "print('Error = ',np.abs(z-np.pi/4))"
      ],
      "execution_count": 117,
      "outputs": [
        {
          "output_type": "stream",
          "name": "stdout",
          "text": [
            "time=  0.0006468296051025391\n",
            "Result =  0.785148163459948\n",
            "Error =  0.00024999993750030036\n"
          ]
        }
      ]
    },
    {
      "cell_type": "code",
      "metadata": {
        "colab": {
          "base_uri": "https://localhost:8080/"
        },
        "id": "LQWUvCx_G5Of",
        "outputId": "b24e044d-fd86-4534-baea-c916637b0a4e"
      },
      "source": [
        "#BMI 500 HW2 Q2.h\n",
        "start = time.time()\n",
        "y = np.zeros((n,1))\n",
        "for ind in range(0,n,2):\n",
        "    y[ind,0] = (1)/(2*ind+1) + (-1)/(2*ind+3)\n",
        "z = np.sum(y)\n",
        "end = time.time()\n",
        "print('time= ', end - start)\n",
        "print('Result = ',z)\n",
        "print('Error = ',np.abs(z-np.pi/4))"
      ],
      "execution_count": 116,
      "outputs": [
        {
          "output_type": "stream",
          "name": "stdout",
          "text": [
            "time=  0.0007388591766357422\n",
            "Result =  0.7851481634599484\n",
            "Error =  0.00024999993749985627\n"
          ]
        }
      ]
    },
    {
      "cell_type": "markdown",
      "metadata": {
        "id": "0sViWNUPOu44"
      },
      "source": [
        "#BMI 500 HW2 Q3\n",
        "We can see by using list (c), the elaped time is the least. The error are very similar among these methods, so we can chooes c."
      ]
    },
    {
      "cell_type": "code",
      "metadata": {
        "colab": {
          "base_uri": "https://localhost:8080/",
          "height": 294
        },
        "id": "uBHdX8E9HmVd",
        "outputId": "f06f971a-aa08-4612-96ec-cfb2e1fb087d"
      },
      "source": [
        "#BMI 500 HW2 Q4\n",
        "y = []\n",
        "error = []\n",
        "for ind in range(n):\n",
        "  if ind%2 == 0:\n",
        "    y.append((1)/(2*ind+1))\n",
        "  else:\n",
        "    y.append((-1)/(2*ind+1))\n",
        "  error.append(np.abs(sum(y)-np.pi/4))\n",
        "plt.plot(error)\n",
        "plt.xlabel('Nmuber of the terms in Leibniz formula')\n",
        "plt.ylabel('Error to the real PI')\n",
        "plt.title('BMI 500 HW2 Q4')\n",
        "plt.show()"
      ],
      "execution_count": 120,
      "outputs": [
        {
          "output_type": "display_data",
          "data": {
            "image/png": "[encoded data removed]",
            "text/plain": [
              "<Figure size 432x288 with 1 Axes>"
            ]
          },
          "metadata": {
            "needs_background": "light"
          }
        }
      ]
    },
    {
      "cell_type": "code",
      "metadata": {
        "id": "thFtURg5ScOa"
      },
      "source": [
        ""
      ],
      "execution_count": null,
      "outputs": []
    },
    {
      "cell_type": "markdown",
      "metadata": {
        "id": "tcaTv4bQQcPm"
      },
      "source": [
        "#BMI 500 HW2 Q5\n",
        "If I use MATLAB, then we can simply use array in MATLAB."
      ]
    }
  ]
}