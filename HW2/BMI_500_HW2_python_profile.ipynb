{
  "nbformat": 4,
  "nbformat_minor": 0,
  "metadata": {
    "colab": {
      "name": "BMI 500 HW2 python profile.ipynb",
      "provenance": []
    },
    "kernelspec": {
      "name": "python3",
      "display_name": "Python 3"
    },
    "language_info": {
      "name": "python"
    }
  },
  "cells": [
    {
      "cell_type": "code",
      "metadata": {
        "colab": {
          "base_uri": "https://localhost:8080/"
        },
        "id": "3wQiM2cTS8Bs",
        "outputId": "6182a448-f71d-46a8-d33f-e7d89c0f79c7"
      },
      "source": [
        "import cProfile\n",
        "import re\n",
        "cProfile.run('re.compile(\"foo|bar\")')"
      ],
      "execution_count": 1,
      "outputs": [
        {
          "output_type": "stream",
          "name": "stdout",
          "text": [
            "         214 function calls (207 primitive calls) in 0.000 seconds\n",
            "\n",
            "   Ordered by: standard name\n",
            "\n",
            "   ncalls  tottime  percall  cumtime  percall filename:lineno(function)\n",
            "        1    0.000    0.000    0.000    0.000 <string>:1(<module>)\n",
            "        2    0.000    0.000    0.000    0.000 enum.py:289(__call__)\n",
            "        2    0.000    0.000    0.000    0.000 enum.py:531(__new__)\n",
            "        1    0.000    0.000    0.000    0.000 enum.py:841(__and__)\n",
            "        1    0.000    0.000    0.000    0.000 re.py:234(compile)\n",
            "        1    0.000    0.000    0.000    0.000 re.py:273(_compile)\n",
            "        1    0.000    0.000    0.000    0.000 sre_compile.py:249(_compile_charset)\n",
            "        1    0.000    0.000    0.000    0.000 sre_compile.py:276(_optimize_charset)\n",
            "        2    0.000    0.000    0.000    0.000 sre_compile.py:453(_get_iscased)\n",
            "        1    0.000    0.000    0.000    0.000 sre_compile.py:461(_get_literal_prefix)\n",
            "        1    0.000    0.000    0.000    0.000 sre_compile.py:492(_get_charset_prefix)\n",
            "        1    0.000    0.000    0.000    0.000 sre_compile.py:536(_compile_info)\n",
            "        2    0.000    0.000    0.000    0.000 sre_compile.py:595(isstring)\n",
            "        1    0.000    0.000    0.000    0.000 sre_compile.py:598(_code)\n",
            "      3/1    0.000    0.000    0.000    0.000 sre_compile.py:71(_compile)\n",
            "        1    0.000    0.000    0.000    0.000 sre_compile.py:759(compile)\n",
            "        3    0.000    0.000    0.000    0.000 sre_parse.py:111(__init__)\n",
            "        7    0.000    0.000    0.000    0.000 sre_parse.py:160(__len__)\n",
            "       18    0.000    0.000    0.000    0.000 sre_parse.py:164(__getitem__)\n",
            "        7    0.000    0.000    0.000    0.000 sre_parse.py:172(append)\n",
            "      3/1    0.000    0.000    0.000    0.000 sre_parse.py:174(getwidth)\n",
            "        1    0.000    0.000    0.000    0.000 sre_parse.py:224(__init__)\n",
            "        8    0.000    0.000    0.000    0.000 sre_parse.py:233(__next)\n",
            "        2    0.000    0.000    0.000    0.000 sre_parse.py:249(match)\n",
            "        6    0.000    0.000    0.000    0.000 sre_parse.py:254(get)\n",
            "        1    0.000    0.000    0.000    0.000 sre_parse.py:286(tell)\n",
            "        1    0.000    0.000    0.000    0.000 sre_parse.py:411(_parse_sub)\n",
            "        2    0.000    0.000    0.000    0.000 sre_parse.py:469(_parse)\n",
            "        1    0.000    0.000    0.000    0.000 sre_parse.py:76(__init__)\n",
            "        2    0.000    0.000    0.000    0.000 sre_parse.py:81(groups)\n",
            "        1    0.000    0.000    0.000    0.000 sre_parse.py:897(fix_flags)\n",
            "        1    0.000    0.000    0.000    0.000 sre_parse.py:913(parse)\n",
            "        1    0.000    0.000    0.000    0.000 {built-in method _sre.compile}\n",
            "        1    0.000    0.000    0.000    0.000 {built-in method builtins.exec}\n",
            "       25    0.000    0.000    0.000    0.000 {built-in method builtins.isinstance}\n",
            "    29/26    0.000    0.000    0.000    0.000 {built-in method builtins.len}\n",
            "        2    0.000    0.000    0.000    0.000 {built-in method builtins.max}\n",
            "        9    0.000    0.000    0.000    0.000 {built-in method builtins.min}\n",
            "        6    0.000    0.000    0.000    0.000 {built-in method builtins.ord}\n",
            "       48    0.000    0.000    0.000    0.000 {method 'append' of 'list' objects}\n",
            "        1    0.000    0.000    0.000    0.000 {method 'disable' of '_lsprof.Profiler' objects}\n",
            "        5    0.000    0.000    0.000    0.000 {method 'find' of 'bytearray' objects}\n",
            "        1    0.000    0.000    0.000    0.000 {method 'items' of 'dict' objects}\n",
            "\n",
            "\n"
          ]
        }
      ]
    },
    {
      "cell_type": "code",
      "metadata": {
        "id": "uqFJE_K2TEU6"
      },
      "source": [
        "import cProfile\n",
        "import re\n",
        "cProfile.run('re.compile(\"foo|bar\")', 'restats')"
      ],
      "execution_count": 3,
      "outputs": []
    },
    {
      "cell_type": "code",
      "metadata": {
        "id": "3QU884KsTWuy"
      },
      "source": [
        ""
      ],
      "execution_count": null,
      "outputs": []
    }
  ]
}